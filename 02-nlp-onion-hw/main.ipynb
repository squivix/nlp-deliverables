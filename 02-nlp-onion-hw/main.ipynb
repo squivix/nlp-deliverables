{
 "cells": [
  {
   "cell_type": "code",
   "id": "initial_id",
   "metadata": {
    "collapsed": true,
    "ExecuteTime": {
     "end_time": "2025-02-14T21:39:18.598751Z",
     "start_time": "2025-02-14T21:39:16.513270Z"
    }
   },
   "source": [
    "\n",
    "from datetime import datetime\n",
    "\n",
    "import matplotlib.pyplot as plt\n",
    "import pandas as pd\n",
    "import torch\n",
    "\n",
    "from CustomDataset import CustomDataset\n",
    "from EarlyStopper import EarlyStopper\n",
    "from models import CustomModel\n",
    "from train import kfold_train_eval\n",
    "\n",
    "df = pd.read_csv('data/OnionOrNot.csv')\n",
    "df"
   ],
   "outputs": [
    {
     "data": {
      "text/plain": [
       "                                                    text  label\n",
       "0      Entire Facebook Staff Laughs As Man Tightens P...      1\n",
       "1      Muslim Woman Denied Soda Can for Fear She Coul...      0\n",
       "2      Bold Move: Hulu Has Announced That They’re Gon...      1\n",
       "3      Despondent Jeff Bezos Realizes He’ll Have To W...      1\n",
       "4      For men looking for great single women, online...      1\n",
       "...                                                  ...    ...\n",
       "23995  Teen Pregnancy Rate Prompting More High School...      1\n",
       "23996  Connecticut TV station under fire after using ...      0\n",
       "23997   Jurisprudence Fetishist Gets Off On Technicality      1\n",
       "23998  Employees From Other Department Announce Plan ...      1\n",
       "23999        Police drone crashes into police SWAT team       0\n",
       "\n",
       "[24000 rows x 2 columns]"
      ],
      "text/html": [
       "<div>\n",
       "<style scoped>\n",
       "    .dataframe tbody tr th:only-of-type {\n",
       "        vertical-align: middle;\n",
       "    }\n",
       "\n",
       "    .dataframe tbody tr th {\n",
       "        vertical-align: top;\n",
       "    }\n",
       "\n",
       "    .dataframe thead th {\n",
       "        text-align: right;\n",
       "    }\n",
       "</style>\n",
       "<table border=\"1\" class=\"dataframe\">\n",
       "  <thead>\n",
       "    <tr style=\"text-align: right;\">\n",
       "      <th></th>\n",
       "      <th>text</th>\n",
       "      <th>label</th>\n",
       "    </tr>\n",
       "  </thead>\n",
       "  <tbody>\n",
       "    <tr>\n",
       "      <th>0</th>\n",
       "      <td>Entire Facebook Staff Laughs As Man Tightens P...</td>\n",
       "      <td>1</td>\n",
       "    </tr>\n",
       "    <tr>\n",
       "      <th>1</th>\n",
       "      <td>Muslim Woman Denied Soda Can for Fear She Coul...</td>\n",
       "      <td>0</td>\n",
       "    </tr>\n",
       "    <tr>\n",
       "      <th>2</th>\n",
       "      <td>Bold Move: Hulu Has Announced That They’re Gon...</td>\n",
       "      <td>1</td>\n",
       "    </tr>\n",
       "    <tr>\n",
       "      <th>3</th>\n",
       "      <td>Despondent Jeff Bezos Realizes He’ll Have To W...</td>\n",
       "      <td>1</td>\n",
       "    </tr>\n",
       "    <tr>\n",
       "      <th>4</th>\n",
       "      <td>For men looking for great single women, online...</td>\n",
       "      <td>1</td>\n",
       "    </tr>\n",
       "    <tr>\n",
       "      <th>...</th>\n",
       "      <td>...</td>\n",
       "      <td>...</td>\n",
       "    </tr>\n",
       "    <tr>\n",
       "      <th>23995</th>\n",
       "      <td>Teen Pregnancy Rate Prompting More High School...</td>\n",
       "      <td>1</td>\n",
       "    </tr>\n",
       "    <tr>\n",
       "      <th>23996</th>\n",
       "      <td>Connecticut TV station under fire after using ...</td>\n",
       "      <td>0</td>\n",
       "    </tr>\n",
       "    <tr>\n",
       "      <th>23997</th>\n",
       "      <td>Jurisprudence Fetishist Gets Off On Technicality</td>\n",
       "      <td>1</td>\n",
       "    </tr>\n",
       "    <tr>\n",
       "      <th>23998</th>\n",
       "      <td>Employees From Other Department Announce Plan ...</td>\n",
       "      <td>1</td>\n",
       "    </tr>\n",
       "    <tr>\n",
       "      <th>23999</th>\n",
       "      <td>Police drone crashes into police SWAT team</td>\n",
       "      <td>0</td>\n",
       "    </tr>\n",
       "  </tbody>\n",
       "</table>\n",
       "<p>24000 rows × 2 columns</p>\n",
       "</div>"
      ]
     },
     "execution_count": 1,
     "metadata": {},
     "output_type": "execute_result"
    }
   ],
   "execution_count": 1
  },
  {
   "metadata": {
    "ExecuteTime": {
     "end_time": "2025-02-14T21:39:18.624613Z",
     "start_time": "2025-02-14T21:39:18.620149Z"
    }
   },
   "cell_type": "code",
   "source": [
    "n_positive = sum(df['label'] == 1)\n",
    "n_negative = sum(df['label'] == 0)\n",
    "\n",
    "print(f\"{len(df):,} rows: {n_positive:,} positive, {n_negative:,} negative\")"
   ],
   "id": "b38526a9179159ca",
   "outputs": [
    {
     "name": "stdout",
     "output_type": "stream",
     "text": [
      "24,000 rows: 9,000 positive, 15,000 negative\n"
     ]
    }
   ],
   "execution_count": 2
  },
  {
   "metadata": {
    "ExecuteTime": {
     "end_time": "2025-02-14T21:39:18.874727Z",
     "start_time": "2025-02-14T21:39:18.710355Z"
    }
   },
   "cell_type": "code",
   "source": [
    "text_length = df['text'].str.len()\n",
    "# Plot histogram\n",
    "plt.figure(figsize=(8, 5))\n",
    "min_text_length = int(text_length.min())\n",
    "max_text_length = int(text_length.max())\n",
    "plt.hist(text_length, bins=range(min_text_length, max_text_length + 2), edgecolor='black', alpha=0.7)\n",
    "plt.xlabel('Headline string Length')\n",
    "plt.ylabel('Frequency')\n",
    "plt.title('Headline length distribution')\n",
    "plt.grid(axis='y', linestyle='--', alpha=0.7)\n",
    "plt.show()\n",
    "\n",
    "print(f\"Shortest headline: {min_text_length} character(s)\")\n",
    "print(f\"Longest headline: {max_text_length} character(s)\")\n"
   ],
   "id": "98840a74b84665ca",
   "outputs": [
    {
     "data": {
      "text/plain": [
       "<Figure size 800x500 with 1 Axes>"
      ],
      "image/png": "[encoded data removed]"
     },
     "metadata": {},
     "output_type": "display_data"
    },
    {
     "name": "stdout",
     "output_type": "stream",
     "text": [
      "Shortest headline: 1 character(s)\n",
      "Longest headline: 305 character(s)\n"
     ]
    }
   ],
   "execution_count": 3
  },
  {
   "metadata": {
    "ExecuteTime": {
     "end_time": "2025-02-14T21:39:19.033249Z",
     "start_time": "2025-02-14T21:39:18.874727Z"
    }
   },
   "cell_type": "code",
   "source": [
    "max_sequence_length = 1 if max_text_length <= 0 else 2 ** (max_text_length - 1).bit_length()\n",
    "print(f\"Using {max_sequence_length:,} as max sequence length\")\n",
    "\n",
    "dataset = CustomDataset(\"data/OnionOrNot.csv\", max_sequence_length=max_sequence_length)\n",
    "device = torch.device('cuda:0' if torch.cuda.is_available() else 'cpu')\n",
    "print(f\"Device: {device}\")"
   ],
   "id": "fb930e9208ef5160",
   "outputs": [
    {
     "name": "stdout",
     "output_type": "stream",
     "text": [
      "Using 512 as max sequence length\n",
      "Device: cuda:0\n"
     ]
    }
   ],
   "execution_count": 4
  },
  {
   "metadata": {
    "ExecuteTime": {
     "end_time": "2025-02-14T21:39:19.221861Z",
     "start_time": "2025-02-14T21:39:19.127518Z"
    }
   },
   "cell_type": "code",
   "source": [
    "batch_size = 256\n",
    "model = CustomModel(vocab_size=dataset.tokenizer.get_vocab_size(), context_length=max_sequence_length, focal_alpha=0.5,\n",
    "                    focal_gamma=2.5,\n",
    "                    dropout=0.25, hidden_layers=3, attention_layers=1, expand=4, embed_dim=512, n_heads=8)\n",
    "print(model)\n"
   ],
   "id": "193eadcfa1ca7ee3",
   "outputs": [
    {
     "name": "stdout",
     "output_type": "stream",
     "text": [
      "CustomModel(\n",
      "  (token_embedding): Embedding(30000, 512)\n",
      "  (position_embedding): Embedding(512, 512)\n",
      "  (model): Sequential(\n",
      "    (0): AttentionLayer(\n",
      "      (multihead_attn): MultiheadAttention(\n",
      "        (out_proj): NonDynamicallyQuantizableLinear(in_features=512, out_features=512, bias=True)\n",
      "      )\n",
      "    )\n",
      "    (1): ReLU()\n",
      "    (2): Dropout(p=0.25, inplace=False)\n",
      "  )\n",
      "  (linear): MLPBinaryClassifier(\n",
      "    (model): Sequential(\n",
      "      (0): Linear(in_features=512, out_features=2048, bias=True)\n",
      "      (1): ReLU()\n",
      "      (2): Dropout(p=0.25, inplace=False)\n",
      "      (3): Linear(in_features=2048, out_features=2048, bias=True)\n",
      "      (4): ReLU()\n",
      "      (5): Dropout(p=0.25, inplace=False)\n",
      "      (6): Linear(in_features=2048, out_features=2048, bias=True)\n",
      "      (7): ReLU()\n",
      "      (8): Dropout(p=0.25, inplace=False)\n",
      "      (9): Linear(in_features=2048, out_features=1, bias=True)\n",
      "      (10): Sigmoid()\n",
      "    )\n",
      "  )\n",
      ")\n"
     ]
    }
   ],
   "execution_count": 5
  },
  {
   "metadata": {
    "ExecuteTime": {
     "end_time": "2025-02-14T21:39:19.396457Z",
     "start_time": "2025-02-14T21:39:19.384451Z"
    }
   },
   "cell_type": "code",
   "source": "print(f\"Training starts {datetime.now().isoformat()}\")\n",
   "id": "c18247d6e9910b74",
   "outputs": [
    {
     "name": "stdout",
     "output_type": "stream",
     "text": [
      "Training starts 2025-02-14T22:39:19.393904\n"
     ]
    }
   ],
   "execution_count": 6
  },
  {
   "metadata": {
    "ExecuteTime": {
     "end_time": "2025-02-14T21:44:49.179736Z",
     "start_time": "2025-02-14T21:39:19.466082Z"
    }
   },
   "cell_type": "code",
   "source": [
    "\n",
    "model = model.to(device)\n",
    "\n",
    "metrics = kfold_train_eval(model, dataset, device, k=5, batch_size=batch_size, learning_rate=0.0001, max_epochs=5 )"
   ],
   "id": "d65ceedb1b63c247",
   "outputs": [
    {
     "name": "stderr",
     "output_type": "stream",
     "text": [
      "Fold 0: 100%|██████████| 5/5 [01:04<00:00, 12.88s/it]\n"
     ]
    },
    {
     "name": "stdout",
     "output_type": "stream",
     "text": [
      "Fold 0, epochs 5: loss:0.038398, accuracy:0.807083, precision:0.767770, recall:0.696111, f1:0.730186, mcc:0.582304, pr_auc:0.882109\n"
     ]
    },
    {
     "name": "stderr",
     "output_type": "stream",
     "text": [
      "Fold 1: 100%|██████████| 5/5 [01:04<00:00, 12.91s/it]\n"
     ]
    },
    {
     "name": "stdout",
     "output_type": "stream",
     "text": [
      "Fold 1, epochs 5: loss:0.033383, accuracy:0.844375, precision:0.813206, recall:0.759444, f1:0.785406, mcc:0.664507, pr_auc:0.917177\n"
     ]
    },
    {
     "name": "stderr",
     "output_type": "stream",
     "text": [
      "Fold 2: 100%|██████████| 5/5 [01:04<00:00, 12.89s/it]\n"
     ]
    },
    {
     "name": "stdout",
     "output_type": "stream",
     "text": [
      "Fold 2, epochs 5: loss:0.030881, accuracy:0.867083, precision:0.810363, recall:0.842778, f1:0.826253, mcc:0.719057, pr_auc:0.938745\n"
     ]
    },
    {
     "name": "stderr",
     "output_type": "stream",
     "text": [
      "Fold 3: 100%|██████████| 5/5 [01:04<00:00, 12.91s/it]\n"
     ]
    },
    {
     "name": "stdout",
     "output_type": "stream",
     "text": [
      "Fold 3, epochs 5: loss:0.023697, accuracy:0.901458, precision:0.863961, recall:0.875000, f1:0.869445, mcc:0.790355, pr_auc:0.961787\n"
     ]
    },
    {
     "name": "stderr",
     "output_type": "stream",
     "text": [
      "Fold 4: 100%|██████████| 5/5 [01:04<00:00, 12.91s/it]\n"
     ]
    },
    {
     "name": "stdout",
     "output_type": "stream",
     "text": [
      "Fold 4, epochs 5: loss:0.020622, accuracy:0.918750, precision:0.881907, recall:0.904444, f1:0.893033, mcc:0.827719, pr_auc:0.973481\n"
     ]
    }
   ],
   "execution_count": 7
  },
  {
   "metadata": {
    "ExecuteTime": {
     "end_time": "2025-02-14T21:44:49.276703Z",
     "start_time": "2025-02-14T21:44:49.264646Z"
    }
   },
   "cell_type": "code",
   "source": "print(f\"Training ends {datetime.now().isoformat()}\")",
   "id": "47a8e6a8a22da5ee",
   "outputs": [
    {
     "name": "stdout",
     "output_type": "stream",
     "text": [
      "Training ends 2025-02-14T22:44:49.264646\n"
     ]
    }
   ],
   "execution_count": 8
  },
  {
   "metadata": {
    "ExecuteTime": {
     "end_time": "2025-02-14T21:44:49.373198Z",
     "start_time": "2025-02-14T21:44:49.370763Z"
    }
   },
   "cell_type": "code",
   "source": [
    "for metric in metrics:\n",
    "    print(f\"{metric}:\", metrics[metric])"
   ],
   "id": "36a8b6e5f2fb9f24",
   "outputs": [
    {
     "name": "stdout",
     "output_type": "stream",
     "text": [
      "test_loss: 0.029396023679720728\n",
      "test_accuracy: 0.86775\n",
      "test_precision: 0.8274413221370001\n",
      "test_recall: 0.8155555555555555\n",
      "test_f1: 0.8208648736727469\n",
      "test_mcc: 0.7167883718582126\n",
      "test_pr_auc: 0.9346598703703703\n"
     ]
    }
   ],
   "execution_count": 9
  },
  {
   "metadata": {
    "ExecuteTime": {
     "end_time": "2025-02-14T21:44:49.443779Z",
     "start_time": "2025-02-14T21:44:49.441254Z"
    }
   },
   "cell_type": "code",
   "source": "",
   "id": "2e5cbeb06327125e",
   "outputs": [],
   "execution_count": null
  }
 ],
 "metadata": {
  "kernelspec": {
   "display_name": "Python 3",
   "language": "python",
   "name": "python3"
  },
  "language_info": {
   "codemirror_mode": {
    "name": "ipython",
    "version": 2
   },
   "file_extension": ".py",
   "mimetype": "text/x-python",
   "name": "python",
   "nbconvert_exporter": "python",
   "pygments_lexer": "ipython2",
   "version": "2.7.6"
  }
 },
 "nbformat": 4,
 "nbformat_minor": 5
}
